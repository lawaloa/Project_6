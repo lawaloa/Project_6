{
 "cells": [
  {
   "cell_type": "markdown",
   "id": "c747d469-ee97-4b95-880f-feefd5456042",
   "metadata": {
    "id": "bA5ajAmk7XH6"
   },
   "source": [
    "\n",
    "\n",
    "\n",
    "![NYC Skyline](nyc.jpg)\n",
    "\n",
    "Welcome to New York City, one of the most-visited cities in the world. There are many Airbnb listings in New York City to meet the high demand for temporary lodging for travelers, which can be anywhere between a few nights to many months. In this project, we will take a closer look at the New York Airbnb market by combining data from multiple file types like `.csv`, `.tsv`, and `.xlsx`.\n",
    "\n",
    "Recall that **CSV**, **TSV**, and **Excel** files are three common formats for storing data. \n",
    "Three files containing data on 2019 Airbnb listings are available to you:\n",
    "\n",
    "**data/airbnb_price.csv**\n",
    "\n",
    "This is a CSV file containing data on Airbnb listing prices and locations.\n",
    "\n",
    "- **`listing_id`**: unique identifier of listing\n",
    "- **`price`**: nightly listing price in USD\n",
    "- **`nbhood_full`**: name of borough and neighborhood where listing is located\n",
    "\n",
    "**data/airbnb_room_type.xlsx**\n",
    "\n",
    "This is an Excel file containing data on Airbnb listing descriptions and room types.\n",
    "\n",
    "- **`listing_id`**: unique identifier of listing\n",
    "- **`description`**: listing description\n",
    "- **`room_type`**: Airbnb has three types of rooms: shared rooms, private rooms, and entire homes/apartments\n",
    "\n",
    "**data/airbnb_last_review.tsv**\n",
    "\n",
    "This is a TSV file containing data on Airbnb host names and review dates.\n",
    "\n",
    "- **`listing_id`**: unique identifier of listing\n",
    "- **`host_name`**: name of listing host\n",
    "- **`last_review`**: date when the listing was last reviewed"
   ]
  },
  {
   "cell_type": "code",
   "execution_count": 2,
   "id": "1fdc5784-479e-46cb-b05b-68439dcc94a7",
   "metadata": {
    "collapsed": false,
    "executionCancelledAt": null,
    "executionTime": 2016,
    "jupyter": {
     "outputs_hidden": false,
     "source_hidden": false
    },
    "lastExecutedAt": 1729290913908,
    "lastExecutedByKernel": "037178d4-a009-43b4-8a4b-133945a77b4c",
    "lastScheduledRunId": null,
    "lastSuccessfullyExecutedCode": "# Import necessary packages\nimport pandas as pd\nimport numpy as np\n\n# Import the datasets\nairbnb_price = pd.read_csv(\"data/airbnb_price.csv\")\nairbnb_room = pd.read_excel(\"data/airbnb_room_type.xlsx\")\nairbnb_last_review = pd.read_csv(\"data/airbnb_last_review.tsv\", sep='\\t')\n\n# Merging the three DataFrames\nprice_room_review = pd.merge(pd.merge(airbnb_price, airbnb_room, on='listing_id', how='inner'), airbnb_last_review, on='listing_id', how='inner')\n\n# Converting reviews data to a date format\nprice_room_review['last_review'] = pd.to_datetime(price_room_review['last_review'], errors='coerce')\n\n# Dates of the earliest and most recent reviews\nfir_reviewed = price_room_review['last_review'].min()\nlas_reviewed = price_room_review['last_review'].max()\n\nprint(fir_reviewed)\nprint(las_reviewed)\n\n# Deal with Value inconsistency in room_type column\nprice_room_review['room_type'] = price_room_review['room_type'].str.lower()\n\n# Number of listings that are private rooms\npvt_room = price_room_review[price_room_review['room_type'] == 'private room'].shape[0]\n\nprint(f\"Number of private room listings: {pvt_room}\")\n\n# Alternative Method: Using value_counts()\n\n# Get the count of each room type\nnb_private_room = price_room_review['room_type'].value_counts()\n\n# Display the number of listings that are private rooms\nprint(f\"Number of private room listings: {nb_private_rooms.get('private room', 0)}\")\n\n# The average listing price? Round to the nearest 2 decimal places.\n# Firstly, convert to float from strings\nprice_room_review['price'] = price_room_review['price'].str.strip('dollars') \nprice_room_review['price'] = price_room_review['price'].astype('float')\n\n# Average listing price\nmid_price = round(price_room_review['price'].mean(), 2)\n\nprint(f\"The average listing pice: {mid_price}\")\n\n# Combine the new variables into one DataFrame called review_dates\nreview_date = {'first_reviewed': [fir_reviewed], 'last_reviewed': [las_reviewed], 'nb_private_rooms': [pvt_room], 'avg_price': [mid_price]}\n\nreview_dates = pd.DataFrame(review_date)\n\nprint(review_dates)",
    "outputsMetadata": {
     "0": {
      "height": 164,
      "type": "stream"
     }
    }
   },
   "outputs": [
    {
     "name": "stdout",
     "output_type": "stream",
     "text": [
      "2019-01-01 00:00:00\n",
      "2019-07-09 00:00:00\n",
      "Number of private room listings: 11356\n",
      "Number of private room listings: 11356\n",
      "The average listing pice: 141.78\n",
      "  first_reviewed last_reviewed  nb_private_rooms  avg_price\n",
      "0     2019-01-01    2019-07-09             11356     141.78\n"
     ]
    }
   ],
   "source": [
    "# Import necessary packages\n",
    "import pandas as pd\n",
    "import numpy as np\n",
    "\n",
    "# Import the datasets\n",
    "airbnb_price = pd.read_csv(\"data/airbnb_price.csv\")\n",
    "airbnb_room = pd.read_excel(\"data/airbnb_room_type.xlsx\", engine='openpyxl')\n",
    "airbnb_last_review = pd.read_csv(\"data/airbnb_last_review.tsv\", sep='\\t')\n",
    "\n",
    "# Merging the three DataFrames\n",
    "price_room_review = pd.merge(pd.merge(airbnb_price, airbnb_room, on='listing_id', how='inner'), airbnb_last_review, on='listing_id', how='inner')\n",
    "\n",
    "# Converting reviews data to a date format\n",
    "price_room_review['last_review'] = pd.to_datetime(price_room_review['last_review'], errors='coerce')\n",
    "\n",
    "# Dates of the earliest and most recent reviews\n",
    "fir_reviewed = price_room_review['last_review'].min()\n",
    "las_reviewed = price_room_review['last_review'].max()\n",
    "\n",
    "print(fir_reviewed)\n",
    "print(las_reviewed)\n",
    "\n",
    "# Deal with Value inconsistency in room_type column\n",
    "price_room_review['room_type'] = price_room_review['room_type'].str.lower()\n",
    "\n",
    "# Number of listings that are private rooms\n",
    "pvt_room = price_room_review[price_room_review['room_type'] == 'private room'].shape[0]\n",
    "\n",
    "print(f\"Number of private room listings: {pvt_room}\")\n",
    "\n",
    "# Alternative Method: Using value_counts()\n",
    "\n",
    "# Get the count of each room type\n",
    "nb_private_room = price_room_review['room_type'].value_counts()\n",
    "\n",
    "# Display the number of listings that are private rooms\n",
    "print(f\"Number of private room listings: {nb_private_room.get('private room', 0)}\")\n",
    "\n",
    "# The average listing price? Round to the nearest 2 decimal places.\n",
    "# Firstly, convert to float from strings\n",
    "price_room_review['price'] = price_room_review['price'].str.strip('dollars') \n",
    "price_room_review['price'] = price_room_review['price'].astype('float')\n",
    "\n",
    "# Average listing price\n",
    "mid_price = round(price_room_review['price'].mean(), 2)\n",
    "\n",
    "print(f\"The average listing pice: {mid_price}\")\n",
    "\n",
    "# Combine the new variables into one DataFrame called review_dates\n",
    "review_date = {'first_reviewed': [fir_reviewed], 'last_reviewed': [las_reviewed], 'nb_private_rooms': [pvt_room], 'avg_price': [mid_price]}\n",
    "\n",
    "review_dates = pd.DataFrame(review_date)\n",
    "\n",
    "print(review_dates)"
   ]
  },
  {
   "cell_type": "code",
   "execution_count": null,
   "id": "4dd7ae3b-cb36-4175-9950-3bc22b237324",
   "metadata": {},
   "outputs": [],
   "source": []
  }
 ],
 "metadata": {
  "colab": {
   "name": "Welcome to DataCamp Workspaces.ipynb",
   "provenance": []
  },
  "editor": "DataLab",
  "kernelspec": {
   "display_name": "Python 3 (ipykernel)",
   "language": "python",
   "name": "python3"
  },
  "language_info": {
   "codemirror_mode": {
    "name": "ipython",
    "version": 3
   },
   "file_extension": ".py",
   "mimetype": "text/x-python",
   "name": "python",
   "nbconvert_exporter": "python",
   "pygments_lexer": "ipython3",
   "version": "3.11.8"
  }
 },
 "nbformat": 4,
 "nbformat_minor": 5
}
